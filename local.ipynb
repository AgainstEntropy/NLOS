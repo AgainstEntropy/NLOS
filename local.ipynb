{
 "cells": [
  {
   "cell_type": "code",
   "execution_count": 55,
   "metadata": {
    "collapsed": true,
    "pycharm": {
     "name": "#%%\n"
    }
   },
   "outputs": [],
   "source": [
    "import os"
   ]
  },
  {
   "cell_type": "code",
   "execution_count": 56,
   "outputs": [
    {
     "data": {
      "text/plain": "20"
     },
     "execution_count": 56,
     "metadata": {},
     "output_type": "execute_result"
    }
   ],
   "source": [
    "action_root = r'G:\\Blender\\blank_wall\\character_actions\\train\\actions_skeleton'\n",
    "# action_root = r'G:\\Blender\\blank_wall\\character_actions\\新建文件夹'\n",
    "action_list = os.listdir(action_root)\n",
    "action_dict = dict.fromkeys(action_list, 0)\n",
    "len(action_dict)"
   ],
   "metadata": {
    "collapsed": false,
    "pycharm": {
     "name": "#%%\n"
    }
   }
  },
  {
   "cell_type": "code",
   "execution_count": 57,
   "outputs": [
    {
     "data": {
      "text/plain": "{'Being hit': 5,\n 'Clap': 6,\n 'Crouch to Stand': 12,\n 'Dance': 14,\n 'Hanging': 5,\n 'Idle': 13,\n 'Jump': 11,\n 'Kick': 13,\n 'Lying down': 10,\n 'Punch': 14,\n 'Sit': 13,\n 'Spin': 2,\n 'Squat': 4,\n 'Stand to crouch': 2,\n 'Stand to kneel': 2,\n 'Strafing': 4,\n 'Throw': 3,\n 'Turn around': 7,\n 'Waving hands': 4,\n 'Yelling': 3}"
     },
     "execution_count": 57,
     "metadata": {},
     "output_type": "execute_result"
    }
   ],
   "source": [
    "for k in action_dict:\n",
    "    action_dir = os.path.join(action_root, k)\n",
    "    action_dict[k] = len(os.listdir(action_dir))\n",
    "action_dict"
   ],
   "metadata": {
    "collapsed": false,
    "pycharm": {
     "name": "#%%\n"
    }
   }
  },
  {
   "cell_type": "code",
   "execution_count": 58,
   "outputs": [
    {
     "name": "stdout",
     "output_type": "stream",
     "text": [
      "['Being hit', 'Clap', 'Crouch to Stand', 'Dance', 'Hanging', 'Idle', 'Jump', 'Kick', 'Lying down', 'Punch', 'Sit', 'Spin', 'Squat', 'Stand to crouch', 'Stand to kneel', 'Strafing', 'Throw', 'Turn around', 'Waving hands', 'Yelling']\n",
      "[5, 6, 12, 14, 5, 13, 11, 13, 10, 14, 13, 2, 4, 2, 2, 4, 3, 7, 4, 3]\n"
     ]
    }
   ],
   "source": [
    "print(list(action_dict.keys()))\n",
    "print(list(action_dict.values()))"
   ],
   "metadata": {
    "collapsed": false,
    "pycharm": {
     "name": "#%%\n"
    }
   }
  },
  {
   "cell_type": "code",
   "execution_count": 59,
   "outputs": [],
   "source": [
    "import matplotlib.pyplot as plt\n",
    "import numpy as np\n",
    "import random"
   ],
   "metadata": {
    "collapsed": false,
    "pycharm": {
     "name": "#%%\n"
    }
   }
  },
  {
   "cell_type": "code",
   "execution_count": 60,
   "outputs": [
    {
     "data": {
      "text/plain": "<Figure size 432x288 with 1 Axes>",
      "image/png": "[encoded data removed]"
     },
     "metadata": {
      "needs_background": "light"
     },
     "output_type": "display_data"
    }
   ],
   "source": [
    "plt.bar(x=list(action_dict.keys()), height=list(action_dict.values()))\n",
    "plt.xticks(rotation=-90)\n",
    "plt.show()"
   ],
   "metadata": {
    "collapsed": false,
    "pycharm": {
     "name": "#%%\n"
    }
   }
  }
 ],
 "metadata": {
  "kernelspec": {
   "display_name": "Python 3",
   "language": "python",
   "name": "python3"
  },
  "language_info": {
   "codemirror_mode": {
    "name": "ipython",
    "version": 2
   },
   "file_extension": ".py",
   "mimetype": "text/x-python",
   "name": "python",
   "nbconvert_exporter": "python",
   "pygments_lexer": "ipython2",
   "version": "2.7.6"
  }
 },
 "nbformat": 4,
 "nbformat_minor": 0
}