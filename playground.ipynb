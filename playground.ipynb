{
 "cells": [
  {
   "cell_type": "code",
   "execution_count": 1,
   "outputs": [],
   "source": [
    "# import os\n",
    "# import time\n",
    "#\n",
    "# import matplotlib.pyplot as plt\n",
    "# import numpy as np\n",
    "# import torch\n",
    "# from torch import nn\n",
    "from torch.utils.data import DataLoader, Subset\n",
    "# from torch.utils.tensorboard import SummaryWriter\n",
    "import torchvision as tv\n",
    "from torchvision import transforms\n",
    "# import torchvision.utils as tvutils\n",
    "from torchsummary import summary\n",
    "\n",
    "# import cv2\n",
    "# import PIL\n",
    "# import matplotlib.pyplot as plt\n",
    "\n",
    "from my_utils.vis import *\n",
    "from my_utils import models\n",
    "# from my_utils.utils import check_accuracy\n",
    "from my_utils.data.dataset import raw_png_processor, raw_video_processor, MyDataset\n",
    "from my_utils.data.loader import load_frames\n",
    "# from my_utils.data.preprocess import sub_mean, reduce\n",
    "\n",
    "%matplotlib inline\n",
    "plt.rcParams['figure.figsize'] = (10.0, 8.0)  # set default size of plots\n",
    "\n",
    "# life save magic code\n",
    "%load_ext autoreload\n",
    "%autoreload 2"
   ],
   "metadata": {
    "collapsed": false,
    "pycharm": {
     "name": "#%%\n"
    }
   }
  },
  {
   "cell_type": "code",
   "execution_count": null,
   "outputs": [],
   "source": [
    "tv_r21d_model = tv.models.video.r2plus1d_18()"
   ],
   "metadata": {
    "collapsed": false,
    "pycharm": {
     "name": "#%%\n"
    }
   }
  },
  {
   "cell_type": "code",
   "execution_count": 2,
   "outputs": [],
   "source": [
    "my_r21d_model = models.NLOS_r21d(layers=[1,2], channels=[16, 32])"
   ],
   "metadata": {
    "collapsed": false,
    "pycharm": {
     "name": "#%%\n"
    }
   }
  },
  {
   "cell_type": "code",
   "execution_count": 3,
   "outputs": [
    {
     "name": "stdout",
     "output_type": "stream",
     "text": [
      "torch.Size([64, 256, 256, 3])\n"
     ]
    }
   ],
   "source": [
    "png_abs_dir = '/mnt/lustre/wangyihao/nlos_raw_pngs/train/Being hit_p0_r0_grey_tiling_07-16-15-49'\n",
    "frames = load_frames(png_abs_dir, frame_range=(0, 64))\n",
    "print(frames.shape)"
   ],
   "metadata": {
    "collapsed": false,
    "pycharm": {
     "name": "#%%\n"
    }
   }
  },
  {
   "cell_type": "code",
   "execution_count": 4,
   "outputs": [
    {
     "data": {
      "text/plain": "torch.Size([1, 3, 64, 256, 256])"
     },
     "execution_count": 4,
     "metadata": {},
     "output_type": "execute_result"
    }
   ],
   "source": [
    "input_frames = frames.permute(3, 0, 1, 2).unsqueeze(0)\n",
    "input_frames.shape"
   ],
   "metadata": {
    "collapsed": false,
    "pycharm": {
     "name": "#%%\n"
    }
   }
  },
  {
   "cell_type": "code",
   "execution_count": 5,
   "outputs": [
    {
     "data": {
      "text/plain": "torch.Size([1, 20])"
     },
     "execution_count": 5,
     "metadata": {},
     "output_type": "execute_result"
    }
   ],
   "source": [
    "feature = my_r21d_model(input_frames)\n",
    "feature.shape"
   ],
   "metadata": {
    "collapsed": false,
    "pycharm": {
     "name": "#%%\n"
    }
   }
  },
  {
   "cell_type": "code",
   "execution_count": 6,
   "outputs": [
    {
     "name": "stdout",
     "output_type": "stream",
     "text": [
      "----------------------------------------------------------------\n",
      "        Layer (type)               Output Shape         Param #\n",
      "================================================================\n",
      "            Conv3d-1        [-1, 8, 64, 64, 64]           1,176\n",
      "       BatchNorm3d-2        [-1, 8, 64, 64, 64]              16\n",
      "              ReLU-3        [-1, 8, 64, 64, 64]               0\n",
      "            Conv3d-4       [-1, 16, 64, 64, 64]             384\n",
      "       BatchNorm3d-5       [-1, 16, 64, 64, 64]              32\n",
      "              ReLU-6       [-1, 16, 64, 64, 64]               0\n",
      "            Conv3d-7       [-1, 36, 64, 64, 64]           5,184\n",
      "       BatchNorm3d-8       [-1, 36, 64, 64, 64]              72\n",
      "              ReLU-9       [-1, 36, 64, 64, 64]               0\n",
      "           Conv3d-10       [-1, 16, 64, 64, 64]           1,728\n",
      "      BatchNorm3d-11       [-1, 16, 64, 64, 64]              32\n",
      "             ReLU-12       [-1, 16, 64, 64, 64]               0\n",
      "           Conv3d-13       [-1, 36, 64, 64, 64]           5,184\n",
      "      BatchNorm3d-14       [-1, 36, 64, 64, 64]              72\n",
      "             ReLU-15       [-1, 36, 64, 64, 64]               0\n",
      "           Conv3d-16       [-1, 16, 64, 64, 64]           1,728\n",
      "      BatchNorm3d-17       [-1, 16, 64, 64, 64]              32\n",
      "             ReLU-18       [-1, 16, 64, 64, 64]               0\n",
      "    R2Plus1DBlock-19       [-1, 16, 64, 64, 64]               0\n",
      "           Conv3d-20       [-1, 57, 64, 32, 32]           8,208\n",
      "      BatchNorm3d-21       [-1, 57, 64, 32, 32]             114\n",
      "             ReLU-22       [-1, 57, 64, 32, 32]               0\n",
      "           Conv3d-23       [-1, 32, 32, 32, 32]           5,472\n",
      "      BatchNorm3d-24       [-1, 32, 32, 32, 32]              64\n",
      "             ReLU-25       [-1, 32, 32, 32, 32]               0\n",
      "           Conv3d-26       [-1, 57, 32, 32, 32]          16,416\n",
      "      BatchNorm3d-27       [-1, 57, 32, 32, 32]             114\n",
      "             ReLU-28       [-1, 57, 32, 32, 32]               0\n",
      "           Conv3d-29       [-1, 32, 32, 32, 32]           5,472\n",
      "      BatchNorm3d-30       [-1, 32, 32, 32, 32]              64\n",
      "           Conv3d-31       [-1, 32, 32, 32, 32]             512\n",
      "      BatchNorm3d-32       [-1, 32, 32, 32, 32]              64\n",
      "             ReLU-33       [-1, 32, 32, 32, 32]               0\n",
      "    R2Plus1DBlock-34       [-1, 32, 32, 32, 32]               0\n",
      "           Conv3d-35       [-1, 72, 32, 32, 32]          20,736\n",
      "      BatchNorm3d-36       [-1, 72, 32, 32, 32]             144\n",
      "             ReLU-37       [-1, 72, 32, 32, 32]               0\n",
      "           Conv3d-38       [-1, 32, 32, 32, 32]           6,912\n",
      "      BatchNorm3d-39       [-1, 32, 32, 32, 32]              64\n",
      "             ReLU-40       [-1, 32, 32, 32, 32]               0\n",
      "           Conv3d-41       [-1, 72, 32, 32, 32]          20,736\n",
      "      BatchNorm3d-42       [-1, 72, 32, 32, 32]             144\n",
      "             ReLU-43       [-1, 72, 32, 32, 32]               0\n",
      "           Conv3d-44       [-1, 32, 32, 32, 32]           6,912\n",
      "      BatchNorm3d-45       [-1, 32, 32, 32, 32]              64\n",
      "             ReLU-46       [-1, 32, 32, 32, 32]               0\n",
      "    R2Plus1DBlock-47       [-1, 32, 32, 32, 32]               0\n",
      "AdaptiveAvgPool3d-48          [-1, 32, 1, 1, 1]               0\n",
      "           Linear-49                   [-1, 20]             660\n",
      "================================================================\n",
      "Total params: 108,512\n",
      "Trainable params: 108,512\n",
      "Non-trainable params: 0\n",
      "----------------------------------------------------------------\n",
      "Input size (MB): 12.00\n",
      "Forward/backward pass size (MB): 1164.25\n",
      "Params size (MB): 0.41\n",
      "Estimated Total Size (MB): 1176.66\n",
      "----------------------------------------------------------------\n"
     ]
    }
   ],
   "source": [
    "summary(my_r21d_model.to('cuda:0'), input_size=(3, 64, 128, 128), batch_size=-1)"
   ],
   "metadata": {
    "collapsed": false,
    "pycharm": {
     "name": "#%%\n"
    }
   }
  }
 ],
 "metadata": {
  "kernelspec": {
   "display_name": "Python 3",
   "language": "python",
   "name": "python3"
  },
  "language_info": {
   "codemirror_mode": {
    "name": "ipython",
    "version": 2
   },
   "file_extension": ".py",
   "mimetype": "text/x-python",
   "name": "python",
   "nbconvert_exporter": "python",
   "pygments_lexer": "ipython2",
   "version": "2.7.6"
  }
 },
 "nbformat": 4,
 "nbformat_minor": 0
}