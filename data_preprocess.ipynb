{
 "cells": [
  {
   "cell_type": "code",
   "execution_count": 2,
   "outputs": [],
   "source": [
    "# import os\n",
    "# import time\n",
    "#\n",
    "# import matplotlib.pyplot as plt\n",
    "# import numpy as np\n",
    "# import torch\n",
    "# from torch import nn\n",
    "from torch.utils.data import DataLoader, Subset\n",
    "# from torch.utils.tensorboard import SummaryWriter\n",
    "from torchvision import transforms\n",
    "# import torchvision.utils as tvutils\n",
    "\n",
    "# import cv2\n",
    "# import PIL\n",
    "# import matplotlib.pyplot as plt\n",
    "\n",
    "from my_utils.vis import *\n",
    "# from my_utils import models\n",
    "# from my_utils.utils import check_accuracy\n",
    "from my_utils.data.dataset import raw_png_processor, raw_video_processor, MyDataset\n",
    "# from my_utils.data.loader import load_frames\n",
    "# from my_utils.data.preprocess import sub_mean, reduce\n",
    "\n",
    "%matplotlib inline\n",
    "plt.rcParams['figure.figsize'] = (10.0, 8.0)  # set default size of plots\n",
    "\n",
    "# life save magic code\n",
    "%load_ext autoreload\n",
    "%autoreload 2"
   ],
   "metadata": {
    "collapsed": false,
    "pycharm": {
     "name": "#%%\n"
    }
   }
  },
  {
   "cell_type": "code",
   "execution_count": 11,
   "outputs": [
    {
     "name": "stdout",
     "output_type": "stream",
     "text": [
      "torch version: 1.10.2\n",
      "There are 8 GPUs in total.\n",
      "The first GPU is: _CudaDeviceProperties(name='NVIDIA A100-SXM4-80GB', major=8, minor=0, total_memory=81251MB, multi_processor_count=108)\n",
      "CUDA version: 11.3\n",
      "Using cuda:0 now!\n"
     ]
    }
   ],
   "source": [
    "print(f\"torch version: {torch.__version__}\")\n",
    "use_cuda = torch.cuda.is_available()\n",
    "if use_cuda:\n",
    "    GPU_nums = torch.cuda.device_count()\n",
    "    GPU = torch.cuda.get_device_properties(0)\n",
    "    print(f\"There are {GPU_nums} GPUs in total.\\nThe first GPU is: {GPU}\")\n",
    "    if '3060' in GPU.name:\n",
    "        print(f\"CUDA version: {torch.cuda_version}\")\n",
    "    else:\n",
    "        print(f\"CUDA version: {torch.version.cuda}\")\n",
    "device = torch.device(f\"cuda:0\" if use_cuda else \"cpu\")\n",
    "print(f\"Using {device} now!\")"
   ],
   "metadata": {
    "collapsed": false,
    "pycharm": {
     "name": "#%%\n"
    }
   }
  },
  {
   "cell_type": "code",
   "execution_count": 3,
   "outputs": [],
   "source": [
    "dp = raw_png_processor(dataset_root='/mnt/lustre/wangyihao/nlos_raw_pngs', mode='train')"
   ],
   "metadata": {
    "collapsed": false,
    "pycharm": {
     "name": "#%%\n"
    }
   }
  },
  {
   "cell_type": "code",
   "execution_count": 4,
   "outputs": [
    {
     "name": "stderr",
     "output_type": "stream",
     "text": [
      "100%|██████████| 1601/1601 [01:42<00:00, 15.66it/s]\n"
     ]
    },
    {
     "name": "stdout",
     "output_type": "stream",
     "text": [
      "{'Being hit': 80, 'Clap': 80, 'Crouch to Stand': 80, 'Dance': 80, 'Hanging': 80, 'Idle': 80, 'Jump': 80, 'Kick': 80, 'Lying down': 80, 'Punch': 80, 'Sit': 80, 'Spin': 80, 'Squat': 80, 'Stand to crouch': 80, 'Stand to kneel': 80, 'Strafing': 80, 'Throw': 80, 'Turn around': 80, 'Waving hands': 80, 'Yelling': 80}\n",
      "floor\t {'white_tiling': 400, 'grey_tiling': 400, 'wooden_floor_1': 400, 'wooden_floor_2': 400}\n",
      "rot_num\t [400, 400, 400, 400]\n",
      "pos_num\t [320, 320, 320, 320, 320]\n"
     ]
    }
   ],
   "source": [
    "dp.check_data(resume=False)"
   ],
   "metadata": {
    "collapsed": false,
    "pycharm": {
     "name": "#%%\n"
    }
   }
  },
  {
   "cell_type": "code",
   "execution_count": null,
   "outputs": [
    {
     "name": "stdout",
     "output_type": "stream",
     "text": [
      "20 classes in total: ['Being hit', 'Clap', 'Crouch to Stand', 'Dance', 'Hanging', 'Idle', 'Jump', 'Kick', 'Lying down', 'Punch', 'Sit', 'Spin', 'Squat', 'Stand to crouch', 'Stand to kneel', 'Strafing', 'Throw', 'Turn around', 'Waving hands', 'Yelling']\n"
     ]
    },
    {
     "name": "stderr",
     "output_type": "stream",
     "text": [
      " 18%|█▊        | 296/1600 [02:35<22:38,  1.04s/it]"
     ]
    }
   ],
   "source": [
    "dp.build_dataset(noise_factor=0)"
   ],
   "metadata": {
    "collapsed": false,
    "pycharm": {
     "name": "#%%\n",
     "is_executing": true
    }
   }
  },
  {
   "cell_type": "code",
   "execution_count": 61,
   "outputs": [],
   "source": [
    "vp = raw_video_processor()"
   ],
   "metadata": {
    "collapsed": false,
    "pycharm": {
     "name": "#%%\n"
    }
   }
  },
  {
   "cell_type": "code",
   "execution_count": null,
   "outputs": [],
   "source": [
    "vp.build_dataset()"
   ],
   "metadata": {
    "collapsed": false,
    "pycharm": {
     "name": "#%%\n",
     "is_executing": true
    }
   }
  },
  {
   "cell_type": "code",
   "execution_count": 3,
   "outputs": [],
   "source": [
    "T = transforms.Compose([\n",
    "    transforms.ToTensor(),\n",
    "    transforms.Resize((128, 64)),\n",
    "        # transforms.Normalize(mean, std)\n",
    "    # transforms.ColorJitter(brightness=.1, hue=.1)\n",
    "])"
   ],
   "metadata": {
    "collapsed": false,
    "pycharm": {
     "name": "#%%\n"
    }
   }
  },
  {
   "cell_type": "code",
   "execution_count": 5,
   "outputs": [
    {
     "name": "stdout",
     "output_type": "stream",
     "text": [
      "Loading dataset:\n"
     ]
    },
    {
     "name": "stderr",
     "output_type": "stream",
     "text": [
      "100%|██████████| 1001/1001 [01:11<00:00, 14.02it/s]\n"
     ]
    },
    {
     "data": {
      "text/plain": "683"
     },
     "execution_count": 5,
     "metadata": {},
     "output_type": "execute_result"
    }
   ],
   "source": [
    "dataset = MyDataset(\n",
    "    dataset_root='/mnt/lustre/wangyihao/nlos_raw_pngs/train/',\n",
    "    # raw_data_root='/mnt/cfs/wangyh/blender/blank_wall/output_random/',\n",
    "    reduce_mode='W',\n",
    "    transform=T\n",
    ")\n",
    "loader = DataLoader(dataset, batch_size=64, shuffle=True)\n",
    "len(loader.dataset)"
   ],
   "metadata": {
    "collapsed": false,
    "pycharm": {
     "name": "#%%\n"
    }
   }
  }
 ],
 "metadata": {
  "kernelspec": {
   "display_name": "Python 3",
   "language": "python",
   "name": "python3"
  },
  "language_info": {
   "codemirror_mode": {
    "name": "ipython",
    "version": 2
   },
   "file_extension": ".py",
   "mimetype": "text/x-python",
   "name": "python",
   "nbconvert_exporter": "python",
   "pygments_lexer": "ipython2",
   "version": "2.7.6"
  }
 },
 "nbformat": 4,
 "nbformat_minor": 0
}