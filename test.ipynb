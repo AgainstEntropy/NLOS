{
 "cells": [
  {
   "cell_type": "code",
   "execution_count": 1,
   "metadata": {
    "collapsed": true
   },
   "outputs": [],
   "source": [
    "import torch\n",
    "from torch.backends import cudnn\n",
    "\n",
    "from my_utils import data, models\n",
    "from my_utils.utils import save_model, check_accuracy, train\n",
    "from my_utils.vis import *"
   ]
  },
  {
   "cell_type": "code",
   "execution_count": 12,
   "outputs": [
    {
     "name": "stdout",
     "output_type": "stream",
     "text": [
      "_CudaDeviceProperties(name='Tesla V100-SXM2-32GB', major=7, minor=0, total_memory=32510MB, multi_processor_count=80)\n",
      "True\n"
     ]
    },
    {
     "data": {
      "text/plain": "tensor(1., device='cuda:1')"
     },
     "execution_count": 12,
     "metadata": {},
     "output_type": "execute_result"
    }
   ],
   "source": [
    "print(torch.cuda.get_device_properties(0))\n",
    "print(cudnn.is_available())\n",
    "a = torch.tensor(1.)\n",
    "a.cuda(device='cuda:1')"
   ],
   "metadata": {
    "collapsed": false,
    "pycharm": {
     "name": "#%%\n"
    }
   }
  },
  {
   "cell_type": "code",
   "execution_count": null,
   "outputs": [],
   "source": [
    "import os"
   ],
   "metadata": {
    "collapsed": false,
    "pycharm": {
     "name": "#%%\n"
    }
   }
  },
  {
   "cell_type": "code",
   "execution_count": 41,
   "outputs": [
    {
     "name": "stdout",
     "output_type": "stream",
     "text": [
      "<KeysViewHDF5 ['cameraGridNormals', 'cameraGridPoints', 'cameraGridPositions', 'cameraGridSize', 'cameraPosition', 'data', 'deltaT', 'hiddenVolumePosition', 'hiddenVolumeRotation', 'hiddenVolumeSize', 'isConfocal', 'laserGridNormals', 'laserGridPoints', 'laserGridPositions', 'laserGridSize', 'laserPosition', 't', 't0']>\n",
      "<HDF5 dataset \"data\": shape (1024, 6, 256, 256), type \"<f4\">\n"
     ]
    }
   ],
   "source": [
    "from scipy.io import loadmat\n",
    "import h5py\n",
    "\n",
    "ROOT = '/home/wangyh/02-Datasets/Z-NLOS'\n",
    "PATH = os.path.join(ROOT, os.listdir(ROOT)[0])\n",
    "with h5py.File(PATH, 'r') as f:\n",
    "    print(f.keys())\n",
    "    print(f['data'])\n",
    "# data = h5py.File('matlabdata.mat')['matlabdata'].value\n",
    "# data"
   ],
   "metadata": {
    "collapsed": false,
    "pycharm": {
     "name": "#%%\n"
    }
   }
  }
 ],
 "metadata": {
  "kernelspec": {
   "display_name": "Python 3",
   "language": "python",
   "name": "python3"
  },
  "language_info": {
   "codemirror_mode": {
    "name": "ipython",
    "version": 2
   },
   "file_extension": ".py",
   "mimetype": "text/x-python",
   "name": "python",
   "nbconvert_exporter": "python",
   "pygments_lexer": "ipython2",
   "version": "2.7.6"
  }
 },
 "nbformat": 4,
 "nbformat_minor": 0
}